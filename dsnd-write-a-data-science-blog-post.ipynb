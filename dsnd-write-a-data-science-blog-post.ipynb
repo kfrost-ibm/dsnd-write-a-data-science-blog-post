{
 "cells": [
  {
   "cell_type": "markdown",
   "metadata": {},
   "source": [
    "# Write a Data Science Blog Post \n",
    "\n",
    "# WineEnthusiast: Can it be used as a pricing tool for wineries?\n",
    "\n",
    "Wine Enthusiast compiles comprehensive reviews of most wines and includes information such as country/region of origin, variety, and reviewer descriptions. This notebook will explore the data to answer three questions to help answer the larger question: Is it possible for wineries to use this data to help them price their wines?\n",
    "\n",
    "The three questions we will focus on:\n",
    "\n",
    "1. What are the origins and varieties of wine with the highest pricing?\n",
    "2. What reviewer descriptors are linked to the highest priced wines?\n",
    "3. Can we create a model that predicts an optimal price?"
   ]
  },
  {
   "cell_type": "markdown",
   "metadata": {},
   "source": [
    "## Imports & configuration"
   ]
  },
  {
   "cell_type": "code",
   "execution_count": 1,
   "metadata": {},
   "outputs": [
    {
     "name": "stderr",
     "output_type": "stream",
     "text": [
      "/Users/kfrost/anaconda3/lib/python3.7/site-packages/ipykernel_launcher.py:34: FutureWarning: Passing a negative integer is deprecated in version 1.0 and will not be supported in future version. Instead, use None to not limit the column width.\n",
      "[nltk_data] Downloading package punkt to /Users/kfrost/nltk_data...\n",
      "[nltk_data]   Package punkt is already up-to-date!\n",
      "[nltk_data] Downloading package stopwords to\n",
      "[nltk_data]     /Users/kfrost/nltk_data...\n",
      "[nltk_data]   Package stopwords is already up-to-date!\n"
     ]
    }
   ],
   "source": [
    "# imports\n",
    "import warnings\n",
    "import string\n",
    "import pandas as pd\n",
    "import numpy as np\n",
    "import matplotlib.pyplot as plt\n",
    "import matplotlib.ticker as mtick\n",
    "import seaborn as sns\n",
    "import nltk\n",
    "from nltk.util import ngrams, everygrams\n",
    "from nltk.corpus import stopwords\n",
    "from nltk.tokenize import word_tokenize, TweetTokenizer\n",
    "from nltk.stem.porter import PorterStemmer\n",
    "from sklearn.feature_extraction.text import TfidfVectorizer\n",
    "from sklearn.model_selection import train_test_split\n",
    "from sklearn.experimental import enable_hist_gradient_boosting\n",
    "from sklearn.linear_model import LogisticRegression, PassiveAggressiveRegressor, LogisticRegressionCV\n",
    "from sklearn.ensemble import RandomForestClassifier, HistGradientBoostingClassifier\n",
    "from sklearn.naive_bayes import CategoricalNB\n",
    "from sklearn.neural_network import MLPClassifier\n",
    "from sklearn.svm import SVC\n",
    "from sklearn.metrics import fbeta_score, accuracy_score, make_scorer, mean_squared_error\n",
    "from sklearn.model_selection import GridSearchCV, StratifiedShuffleSplit\n",
    "from sklearn.feature_selection import SelectKBest, f_regression\n",
    "from scipy.stats import zscore\n",
    "from time import time\n",
    "%matplotlib inline\n",
    "from IPython.core.interactiveshell import InteractiveShell\n",
    "from IPython.display import Markdown, display\n",
    "\n",
    "# configuration\n",
    "pd.set_option('display.max_rows', 500)\n",
    "pd.set_option('display.max_columns', None)\n",
    "pd.set_option('display.max_colwidth', -1)\n",
    "InteractiveShell.ast_node_interactivity = \"all\"\n",
    "warnings.filterwarnings('ignore')\n",
    "\n",
    "nltk.download('punkt')\n",
    "nltk.download('stopwords')\n",
    "stop_words = set(stopwords.words('english'))"
   ]
  },
  {
   "cell_type": "code",
   "execution_count": 2,
   "metadata": {},
   "outputs": [
    {
     "data": {
      "application/javascript": [
       "IPython.OutputArea.auto_scroll_threshold = 1000\n"
      ],
      "text/plain": [
       "<IPython.core.display.Javascript object>"
      ]
     },
     "metadata": {},
     "output_type": "display_data"
    }
   ],
   "source": [
    "%%javascript\n",
    "IPython.OutputArea.auto_scroll_threshold = 1000"
   ]
  },
  {
   "cell_type": "code",
   "execution_count": 3,
   "metadata": {},
   "outputs": [],
   "source": [
    "def get_filtered_list(text, stem =False):\n",
    "    '''\n",
    "    Receives a string and returns a list of words from text with stop words, \n",
    "    punctation, and numerics removed and stemming processed\n",
    "    '''\n",
    "    tokens = TweetTokenizer().tokenize(text=text)\n",
    "    tokens = [w.lower() for w in tokens if (not w in stop_words) and (not w in string.punctuation) and (not w.isnumeric())]\n",
    "    \n",
    "    if stem:\n",
    "        porter = PorterStemmer()\n",
    "        stems = []\n",
    "        for t in tokens:    \n",
    "            stems.append(porter.stem(t))\n",
    "        return stems\n",
    "    else:\n",
    "        return tokens"
   ]
  },
  {
   "cell_type": "code",
   "execution_count": 4,
   "metadata": {},
   "outputs": [],
   "source": [
    "def filter_outliers(df, column_to_filter, column_to_count):\n",
    "    '''\n",
    "    Remove outliers from a dataframe\n",
    "    '''\n",
    "    print('Unique ' + column_to_filter + ' values before filtering: ' + str(df[column_to_filter].unique().size))\n",
    "    \n",
    "    filtered = df.filter([column_to_filter, column_to_count])  \n",
    "    median = filtered.groupby([column_to_filter]).count().median()[column_to_count]\n",
    "    filtered = filtered.groupby([column_to_filter]).count()[column_to_count].reset_index()\n",
    "    filtered = filtered[filtered[column_to_count] > median][column_to_filter]\n",
    "    df_after = df[df[column_to_filter].isin(filtered)]\n",
    "    \n",
    "    print('Unique ' + column_to_filter + ' values after filtering: ' + str(df_after[column_to_filter].unique().size))\n",
    "    \n",
    "    return df_after"
   ]
  },
  {
   "cell_type": "code",
   "execution_count": 5,
   "metadata": {},
   "outputs": [],
   "source": [
    "def printmd(string):\n",
    "    '''\n",
    "    Print markdown text\n",
    "    '''\n",
    "    display(Markdown(string))"
   ]
  },
  {
   "cell_type": "markdown",
   "metadata": {},
   "source": [
    "## Read data and general clean up"
   ]
  },
  {
   "cell_type": "code",
   "execution_count": 6,
   "metadata": {},
   "outputs": [],
   "source": [
    "# read data\n",
    "df = pd.read_csv('winemag-data-130k-v2.csv')"
   ]
  },
  {
   "cell_type": "code",
   "execution_count": 7,
   "metadata": {},
   "outputs": [
    {
     "data": {
      "text/html": [
       "<div>\n",
       "<style scoped>\n",
       "    .dataframe tbody tr th:only-of-type {\n",
       "        vertical-align: middle;\n",
       "    }\n",
       "\n",
       "    .dataframe tbody tr th {\n",
       "        vertical-align: top;\n",
       "    }\n",
       "\n",
       "    .dataframe thead th {\n",
       "        text-align: right;\n",
       "    }\n",
       "</style>\n",
       "<table border=\"1\" class=\"dataframe\">\n",
       "  <thead>\n",
       "    <tr style=\"text-align: right;\">\n",
       "      <th></th>\n",
       "      <th>Unnamed: 0</th>\n",
       "      <th>country</th>\n",
       "      <th>description</th>\n",
       "      <th>designation</th>\n",
       "      <th>points</th>\n",
       "      <th>price</th>\n",
       "      <th>province</th>\n",
       "      <th>region_1</th>\n",
       "      <th>region_2</th>\n",
       "      <th>taster_name</th>\n",
       "      <th>taster_twitter_handle</th>\n",
       "      <th>title</th>\n",
       "      <th>variety</th>\n",
       "      <th>winery</th>\n",
       "    </tr>\n",
       "  </thead>\n",
       "  <tbody>\n",
       "    <tr>\n",
       "      <th>103777</th>\n",
       "      <td>103777</td>\n",
       "      <td>Italy</td>\n",
       "      <td>This charming, easy-drinking blend of Grechetto, Procanico, Malvasia and Verdello opens with a fragrance of yellow flower and spice. The palate offers flavors of tropical fruit, apple and lemon-lime, with a clean, refreshing finish.</td>\n",
       "      <td>NaN</td>\n",
       "      <td>87</td>\n",
       "      <td>10.0</td>\n",
       "      <td>Central Italy</td>\n",
       "      <td>Orvieto Classico</td>\n",
       "      <td>NaN</td>\n",
       "      <td>Kerin O’Keefe</td>\n",
       "      <td>@kerinokeefe</td>\n",
       "      <td>La Carraia 2012  Orvieto Classico</td>\n",
       "      <td>White Blend</td>\n",
       "      <td>La Carraia</td>\n",
       "    </tr>\n",
       "    <tr>\n",
       "      <th>88421</th>\n",
       "      <td>88421</td>\n",
       "      <td>US</td>\n",
       "      <td>Superripe black cherry and dried plum aromas, generous and rich fruit flavors and a smooth texture make this appealing all the way through. Made from Tempranillo and four other varieties, it's boldly flavored but not especially full-bodied, and feels just grippy enough on the palate to go well with burgers and ribs.</td>\n",
       "      <td>Big</td>\n",
       "      <td>87</td>\n",
       "      <td>10.0</td>\n",
       "      <td>California</td>\n",
       "      <td>California</td>\n",
       "      <td>California Other</td>\n",
       "      <td>Jim Gordon</td>\n",
       "      <td>@gordone_cellars</td>\n",
       "      <td>Dark Horse NV Big Red (California)</td>\n",
       "      <td>Red Blend</td>\n",
       "      <td>Dark Horse</td>\n",
       "    </tr>\n",
       "    <tr>\n",
       "      <th>17737</th>\n",
       "      <td>17737</td>\n",
       "      <td>Portugal</td>\n",
       "      <td>Mint aromas and flavors lead to an intense wine that is powered at this young stage by firm, serious tannins. It has great richness from the black plum fruits, and a spicy, herbal character that adds complexity. From consultant Luis Duarte, this is a wine for long-term aging; hold for 6–7 years or more.</td>\n",
       "      <td>Rubrica</td>\n",
       "      <td>94</td>\n",
       "      <td>25.0</td>\n",
       "      <td>Alentejano</td>\n",
       "      <td>NaN</td>\n",
       "      <td>NaN</td>\n",
       "      <td>Roger Voss</td>\n",
       "      <td>@vossroger</td>\n",
       "      <td>Luis Duarte 2010 Rubrica Red (Alentejano)</td>\n",
       "      <td>Portuguese Red</td>\n",
       "      <td>Luis Duarte</td>\n",
       "    </tr>\n",
       "    <tr>\n",
       "      <th>9259</th>\n",
       "      <td>9259</td>\n",
       "      <td>Italy</td>\n",
       "      <td>Underbrush, oak, wild berry, herb and balsamic notes lead the nose of this Brunello. Tightly wound, fine-grained tannins frame cranberry, red cherry, orange zest and white pepper flavors on the palate. A hint of star anise signals the close. Drink 2020–2027.</td>\n",
       "      <td>NaN</td>\n",
       "      <td>91</td>\n",
       "      <td>55.0</td>\n",
       "      <td>Tuscany</td>\n",
       "      <td>Brunello di Montalcino</td>\n",
       "      <td>NaN</td>\n",
       "      <td>Kerin O’Keefe</td>\n",
       "      <td>@kerinokeefe</td>\n",
       "      <td>Podere Brizio 2012  Brunello di Montalcino</td>\n",
       "      <td>Sangiovese</td>\n",
       "      <td>Podere Brizio</td>\n",
       "    </tr>\n",
       "    <tr>\n",
       "      <th>93400</th>\n",
       "      <td>93400</td>\n",
       "      <td>Italy</td>\n",
       "      <td>Classic aromas truffle, dark-skinned berry, tilled soil and dark baking spice lift out of the glass along with a whiff of menthol. The juicy palate boasts mature Marasca cherry, cinnamon, clove, anise and chopped mint alongside tightly wound tannins and fresh acidity. A hint of tobacco signals the close. Drink 2020–2026.</td>\n",
       "      <td>Fossati</td>\n",
       "      <td>92</td>\n",
       "      <td>70.0</td>\n",
       "      <td>Piedmont</td>\n",
       "      <td>Barolo</td>\n",
       "      <td>NaN</td>\n",
       "      <td>Kerin O’Keefe</td>\n",
       "      <td>@kerinokeefe</td>\n",
       "      <td>Cascina Adelaide 2012 Fossati  (Barolo)</td>\n",
       "      <td>Nebbiolo</td>\n",
       "      <td>Cascina Adelaide</td>\n",
       "    </tr>\n",
       "  </tbody>\n",
       "</table>\n",
       "</div>"
      ],
      "text/plain": [
       "        Unnamed: 0   country  \\\n",
       "103777  103777      Italy      \n",
       "88421   88421       US         \n",
       "17737   17737       Portugal   \n",
       "9259    9259        Italy      \n",
       "93400   93400       Italy      \n",
       "\n",
       "                                                                                                                                                                                                                                                                                                                               description  \\\n",
       "103777  This charming, easy-drinking blend of Grechetto, Procanico, Malvasia and Verdello opens with a fragrance of yellow flower and spice. The palate offers flavors of tropical fruit, apple and lemon-lime, with a clean, refreshing finish.                                                                                             \n",
       "88421   Superripe black cherry and dried plum aromas, generous and rich fruit flavors and a smooth texture make this appealing all the way through. Made from Tempranillo and four other varieties, it's boldly flavored but not especially full-bodied, and feels just grippy enough on the palate to go well with burgers and ribs.        \n",
       "17737   Mint aromas and flavors lead to an intense wine that is powered at this young stage by firm, serious tannins. It has great richness from the black plum fruits, and a spicy, herbal character that adds complexity. From consultant Luis Duarte, this is a wine for long-term aging; hold for 6–7 years or more.                     \n",
       "9259    Underbrush, oak, wild berry, herb and balsamic notes lead the nose of this Brunello. Tightly wound, fine-grained tannins frame cranberry, red cherry, orange zest and white pepper flavors on the palate. A hint of star anise signals the close. Drink 2020–2027.                                                                   \n",
       "93400   Classic aromas truffle, dark-skinned berry, tilled soil and dark baking spice lift out of the glass along with a whiff of menthol. The juicy palate boasts mature Marasca cherry, cinnamon, clove, anise and chopped mint alongside tightly wound tannins and fresh acidity. A hint of tobacco signals the close. Drink 2020–2026.   \n",
       "\n",
       "       designation  points  price       province                region_1  \\\n",
       "103777  NaN         87      10.0   Central Italy  Orvieto Classico         \n",
       "88421   Big         87      10.0   California     California               \n",
       "17737   Rubrica     94      25.0   Alentejano     NaN                      \n",
       "9259    NaN         91      55.0   Tuscany        Brunello di Montalcino   \n",
       "93400   Fossati     92      70.0   Piedmont       Barolo                   \n",
       "\n",
       "                region_2    taster_name taster_twitter_handle  \\\n",
       "103777  NaN               Kerin O’Keefe  @kerinokeefe           \n",
       "88421   California Other  Jim Gordon     @gordone_cellars       \n",
       "17737   NaN               Roger Voss     @vossroger             \n",
       "9259    NaN               Kerin O’Keefe  @kerinokeefe           \n",
       "93400   NaN               Kerin O’Keefe  @kerinokeefe           \n",
       "\n",
       "                                             title         variety  \\\n",
       "103777  La Carraia 2012  Orvieto Classico           White Blend      \n",
       "88421   Dark Horse NV Big Red (California)          Red Blend        \n",
       "17737   Luis Duarte 2010 Rubrica Red (Alentejano)   Portuguese Red   \n",
       "9259    Podere Brizio 2012  Brunello di Montalcino  Sangiovese       \n",
       "93400   Cascina Adelaide 2012 Fossati  (Barolo)     Nebbiolo         \n",
       "\n",
       "                  winery  \n",
       "103777  La Carraia        \n",
       "88421   Dark Horse        \n",
       "17737   Luis Duarte       \n",
       "9259    Podere Brizio     \n",
       "93400   Cascina Adelaide  "
      ]
     },
     "execution_count": 7,
     "metadata": {},
     "output_type": "execute_result"
    }
   ],
   "source": [
    "df.sample(5)"
   ]
  },
  {
   "cell_type": "code",
   "execution_count": 8,
   "metadata": {},
   "outputs": [
    {
     "name": "stdout",
     "output_type": "stream",
     "text": [
      "<class 'pandas.core.frame.DataFrame'>\n",
      "RangeIndex: 129971 entries, 0 to 129970\n",
      "Data columns (total 14 columns):\n",
      " #   Column                 Non-Null Count   Dtype  \n",
      "---  ------                 --------------   -----  \n",
      " 0   Unnamed: 0             129971 non-null  int64  \n",
      " 1   country                129908 non-null  object \n",
      " 2   description            129971 non-null  object \n",
      " 3   designation            92506 non-null   object \n",
      " 4   points                 129971 non-null  int64  \n",
      " 5   price                  120975 non-null  float64\n",
      " 6   province               129908 non-null  object \n",
      " 7   region_1               108724 non-null  object \n",
      " 8   region_2               50511 non-null   object \n",
      " 9   taster_name            103727 non-null  object \n",
      " 10  taster_twitter_handle  98758 non-null   object \n",
      " 11  title                  129971 non-null  object \n",
      " 12  variety                129970 non-null  object \n",
      " 13  winery                 129971 non-null  object \n",
      "dtypes: float64(1), int64(2), object(11)\n",
      "memory usage: 13.9+ MB\n"
     ]
    }
   ],
   "source": [
    "df.info()"
   ]
  },
  {
   "cell_type": "code",
   "execution_count": 9,
   "metadata": {},
   "outputs": [],
   "source": [
    "# remove extraneous column\n",
    "df.drop(['Unnamed: 0', 'region_2', 'points', 'taster_name', 'taster_twitter_handle', 'designation', 'title', 'winery'], axis=1, inplace=True)"
   ]
  },
  {
   "cell_type": "code",
   "execution_count": 10,
   "metadata": {},
   "outputs": [],
   "source": [
    "# rename column\n",
    "df.rename(columns={\"region_1\": \"region\"}, inplace=True)"
   ]
  },
  {
   "cell_type": "code",
   "execution_count": 11,
   "metadata": {},
   "outputs": [],
   "source": [
    "# drop any duplicate rows\n",
    "df.drop_duplicates(inplace=True)\n",
    "\n",
    "# drop any rows that don't have pricing information\n",
    "df.dropna(subset=['price'], inplace=True)"
   ]
  },
  {
   "cell_type": "code",
   "execution_count": 12,
   "metadata": {},
   "outputs": [],
   "source": [
    "# remove outliers with price z-score > 1\n",
    "df = df[np.abs(zscore(df['price'])) < 1]"
   ]
  },
  {
   "cell_type": "code",
   "execution_count": 13,
   "metadata": {
    "scrolled": true
   },
   "outputs": [
    {
     "name": "stdout",
     "output_type": "stream",
     "text": [
      "<class 'pandas.core.frame.DataFrame'>\n",
      "Int64Index: 104486 entries, 1 to 129970\n",
      "Data columns (total 6 columns):\n",
      " #   Column       Non-Null Count   Dtype  \n",
      "---  ------       --------------   -----  \n",
      " 0   country      104431 non-null  object \n",
      " 1   description  104486 non-null  object \n",
      " 2   price        104486 non-null  float64\n",
      " 3   province     104431 non-null  object \n",
      " 4   region       87123 non-null   object \n",
      " 5   variety      104485 non-null  object \n",
      "dtypes: float64(1), object(5)\n",
      "memory usage: 5.6+ MB\n"
     ]
    }
   ],
   "source": [
    "df.info()"
   ]
  },
  {
   "cell_type": "markdown",
   "metadata": {},
   "source": [
    "## Q1: What are the origins and varieties of wine with the highest pricing?"
   ]
  },
  {
   "cell_type": "markdown",
   "metadata": {},
   "source": [
    "### 1. Business Understanding\n",
    "\n",
    "A winery wants to maximize the price the market will support for a given wine. Knowing what the competition in your area is charging might help understand this. What origins produce the highest priced wines? What wine varieties are the most expensive?"
   ]
  },
  {
   "cell_type": "markdown",
   "metadata": {},
   "source": [
    "### 2. Data Understanding\n",
    "\n",
    "Let's take a look at our data and see if it might sufficiently answer our question."
   ]
  },
  {
   "cell_type": "code",
   "execution_count": 14,
   "metadata": {},
   "outputs": [],
   "source": [
    "# create a copy of the base dataset\n",
    "df_q1 = df.copy()"
   ]
  },
  {
   "cell_type": "code",
   "execution_count": 15,
   "metadata": {},
   "outputs": [
    {
     "name": "stdout",
     "output_type": "stream",
     "text": [
      "<class 'pandas.core.frame.DataFrame'>\n",
      "Int64Index: 104486 entries, 1 to 129970\n",
      "Data columns (total 6 columns):\n",
      " #   Column       Non-Null Count   Dtype  \n",
      "---  ------       --------------   -----  \n",
      " 0   country      104431 non-null  object \n",
      " 1   description  104486 non-null  object \n",
      " 2   price        104486 non-null  float64\n",
      " 3   province     104431 non-null  object \n",
      " 4   region       87123 non-null   object \n",
      " 5   variety      104485 non-null  object \n",
      "dtypes: float64(1), object(5)\n",
      "memory usage: 5.6+ MB\n"
     ]
    }
   ],
   "source": [
    "df_q1.info()"
   ]
  },
  {
   "cell_type": "code",
   "execution_count": 16,
   "metadata": {},
   "outputs": [
    {
     "data": {
      "text/html": [
       "<div>\n",
       "<style scoped>\n",
       "    .dataframe tbody tr th:only-of-type {\n",
       "        vertical-align: middle;\n",
       "    }\n",
       "\n",
       "    .dataframe tbody tr th {\n",
       "        vertical-align: top;\n",
       "    }\n",
       "\n",
       "    .dataframe thead th {\n",
       "        text-align: right;\n",
       "    }\n",
       "</style>\n",
       "<table border=\"1\" class=\"dataframe\">\n",
       "  <thead>\n",
       "    <tr style=\"text-align: right;\">\n",
       "      <th></th>\n",
       "      <th>country</th>\n",
       "      <th>description</th>\n",
       "      <th>price</th>\n",
       "      <th>province</th>\n",
       "      <th>region</th>\n",
       "      <th>variety</th>\n",
       "    </tr>\n",
       "  </thead>\n",
       "  <tbody>\n",
       "    <tr>\n",
       "      <th>51953</th>\n",
       "      <td>South Africa</td>\n",
       "      <td>A decadent blend of ripe berries and rich oak characterizes this wine; sweet smoke and baking spice mingle harmoniously with notes of mashed raspberry and blackberry, accented by hints of hickory-cured bacon and raw cocoa nibs. The medium-weight mouth is structured and bold, with chewy tannins and heady flavors of plum and berry preserves, roasted coffee and sweet licorice. The finish is long and dry, and although this would certainly benefit from 5–10 years of cellaring time, it's approachable now with decanting.</td>\n",
       "      <td>38.0</td>\n",
       "      <td>Stellenbosch</td>\n",
       "      <td>NaN</td>\n",
       "      <td>Pinotage</td>\n",
       "    </tr>\n",
       "    <tr>\n",
       "      <th>121449</th>\n",
       "      <td>France</td>\n",
       "      <td>This wine is well balanced, ripe with apricot and white-peach flavors that contrast with the kiwi and grapefruit freshness. A more mineral edge gives texture. This delicious wine will be even better to drink from 2017.</td>\n",
       "      <td>29.0</td>\n",
       "      <td>Burgundy</td>\n",
       "      <td>Pouilly-Fuissé</td>\n",
       "      <td>Chardonnay</td>\n",
       "    </tr>\n",
       "    <tr>\n",
       "      <th>51311</th>\n",
       "      <td>US</td>\n",
       "      <td>The aromas on this bottling are inoffensive but a bit flat, with broad nectarine and light orange touches. There is a citrus twist to the palate and a touch of wet cement.</td>\n",
       "      <td>15.0</td>\n",
       "      <td>California</td>\n",
       "      <td>Paso Robles</td>\n",
       "      <td>Sauvignon Blanc</td>\n",
       "    </tr>\n",
       "    <tr>\n",
       "      <th>44284</th>\n",
       "      <td>US</td>\n",
       "      <td>Made from Moscato di Canelli, this dessert wine is more like a still wine in bouquet, not exuding sweet as much as floral. On the palate, it's a different story, taking on richness and thickness around flavors of baked apple and nutmeg, finding a good balance on the finish.</td>\n",
       "      <td>25.0</td>\n",
       "      <td>California</td>\n",
       "      <td>Napa Valley</td>\n",
       "      <td>Moscato</td>\n",
       "    </tr>\n",
       "    <tr>\n",
       "      <th>104510</th>\n",
       "      <td>Portugal</td>\n",
       "      <td>This is a fruity wine housing soft tannins and red berry fruit notes. It's rounded and smooth, with streaks of vanilla highlighting the finish. Drink now.</td>\n",
       "      <td>7.0</td>\n",
       "      <td>Alentejo</td>\n",
       "      <td>NaN</td>\n",
       "      <td>Portuguese Red</td>\n",
       "    </tr>\n",
       "    <tr>\n",
       "      <th>104566</th>\n",
       "      <td>US</td>\n",
       "      <td>This very fairly priced wine from the fourth-generation winemaking family behind San Antonio Winery delivers aromas of black cherry-crusted charred meats with significant mint character. It's dense on the palate and quite tannic, but quite nice with blackberry paste, licorice and tanned leather flavors.</td>\n",
       "      <td>20.0</td>\n",
       "      <td>California</td>\n",
       "      <td>Paso Robles</td>\n",
       "      <td>Merlot</td>\n",
       "    </tr>\n",
       "    <tr>\n",
       "      <th>117745</th>\n",
       "      <td>France</td>\n",
       "      <td>This has firm tannins, and it demonstrates the potential of its juicy fruit flavors. With its powerful structure, this is a slowly developing selection that needs at least five years in a cellar.</td>\n",
       "      <td>57.0</td>\n",
       "      <td>Burgundy</td>\n",
       "      <td>Beaune</td>\n",
       "      <td>Pinot Noir</td>\n",
       "    </tr>\n",
       "    <tr>\n",
       "      <th>57698</th>\n",
       "      <td>Italy</td>\n",
       "      <td>This plush, rich expression of Pinot Grigio from northeast Italy would pair with white meat, seafood risotto or spicy dishes from the Far East. The mouthfeel is smooth, rich and long-lasting.</td>\n",
       "      <td>28.0</td>\n",
       "      <td>Northeastern Italy</td>\n",
       "      <td>Friuli Isonzo</td>\n",
       "      <td>Pinot Grigio</td>\n",
       "    </tr>\n",
       "    <tr>\n",
       "      <th>1435</th>\n",
       "      <td>US</td>\n",
       "      <td>The 2010 Bello Rosso sticks to the 50-50 Sangiovese, Cabernet Sauvignon formula, with a full, round, ripe and balanced palate. Fruity and forward, with citrus-accented cherry fruit, it pulls together the strengths of both grapes, with taut acidity and firm tannins.</td>\n",
       "      <td>32.0</td>\n",
       "      <td>Washington</td>\n",
       "      <td>Columbia Valley (WA)</td>\n",
       "      <td>Cabernet Sauvignon-Sangiovese</td>\n",
       "    </tr>\n",
       "    <tr>\n",
       "      <th>8995</th>\n",
       "      <td>France</td>\n",
       "      <td>Named after the steep slopes that back the Bourgeois winery, this powerful, concentrated wine shows both wonderful white and yellow fruits and a mineral character that gives a superb tension. Packed with fruit and impressively textured, it can still age. Drink from 2017.</td>\n",
       "      <td>35.0</td>\n",
       "      <td>Loire Valley</td>\n",
       "      <td>Sancerre</td>\n",
       "      <td>Sauvignon Blanc</td>\n",
       "    </tr>\n",
       "  </tbody>\n",
       "</table>\n",
       "</div>"
      ],
      "text/plain": [
       "             country  \\\n",
       "51953   South Africa   \n",
       "121449  France         \n",
       "51311   US             \n",
       "44284   US             \n",
       "104510  Portugal       \n",
       "104566  US             \n",
       "117745  France         \n",
       "57698   Italy          \n",
       "1435    US             \n",
       "8995    France         \n",
       "\n",
       "                                                                                                                                                                                                                                                                                                                                                                                                                                                                                                                                    description  \\\n",
       "51953   A decadent blend of ripe berries and rich oak characterizes this wine; sweet smoke and baking spice mingle harmoniously with notes of mashed raspberry and blackberry, accented by hints of hickory-cured bacon and raw cocoa nibs. The medium-weight mouth is structured and bold, with chewy tannins and heady flavors of plum and berry preserves, roasted coffee and sweet licorice. The finish is long and dry, and although this would certainly benefit from 5–10 years of cellaring time, it's approachable now with decanting.   \n",
       "121449  This wine is well balanced, ripe with apricot and white-peach flavors that contrast with the kiwi and grapefruit freshness. A more mineral edge gives texture. This delicious wine will be even better to drink from 2017.                                                                                                                                                                                                                                                                                                                \n",
       "51311   The aromas on this bottling are inoffensive but a bit flat, with broad nectarine and light orange touches. There is a citrus twist to the palate and a touch of wet cement.                                                                                                                                                                                                                                                                                                                                                               \n",
       "44284   Made from Moscato di Canelli, this dessert wine is more like a still wine in bouquet, not exuding sweet as much as floral. On the palate, it's a different story, taking on richness and thickness around flavors of baked apple and nutmeg, finding a good balance on the finish.                                                                                                                                                                                                                                                        \n",
       "104510  This is a fruity wine housing soft tannins and red berry fruit notes. It's rounded and smooth, with streaks of vanilla highlighting the finish. Drink now.                                                                                                                                                                                                                                                                                                                                                                                \n",
       "104566  This very fairly priced wine from the fourth-generation winemaking family behind San Antonio Winery delivers aromas of black cherry-crusted charred meats with significant mint character. It's dense on the palate and quite tannic, but quite nice with blackberry paste, licorice and tanned leather flavors.                                                                                                                                                                                                                          \n",
       "117745  This has firm tannins, and it demonstrates the potential of its juicy fruit flavors. With its powerful structure, this is a slowly developing selection that needs at least five years in a cellar.                                                                                                                                                                                                                                                                                                                                       \n",
       "57698   This plush, rich expression of Pinot Grigio from northeast Italy would pair with white meat, seafood risotto or spicy dishes from the Far East. The mouthfeel is smooth, rich and long-lasting.                                                                                                                                                                                                                                                                                                                                           \n",
       "1435    The 2010 Bello Rosso sticks to the 50-50 Sangiovese, Cabernet Sauvignon formula, with a full, round, ripe and balanced palate. Fruity and forward, with citrus-accented cherry fruit, it pulls together the strengths of both grapes, with taut acidity and firm tannins.                                                                                                                                                                                                                                                                 \n",
       "8995    Named after the steep slopes that back the Bourgeois winery, this powerful, concentrated wine shows both wonderful white and yellow fruits and a mineral character that gives a superb tension. Packed with fruit and impressively textured, it can still age. Drink from 2017.                                                                                                                                                                                                                                                           \n",
       "\n",
       "        price            province                region  \\\n",
       "51953   38.0   Stellenbosch        NaN                    \n",
       "121449  29.0   Burgundy            Pouilly-Fuissé         \n",
       "51311   15.0   California          Paso Robles            \n",
       "44284   25.0   California          Napa Valley            \n",
       "104510  7.0    Alentejo            NaN                    \n",
       "104566  20.0   California          Paso Robles            \n",
       "117745  57.0   Burgundy            Beaune                 \n",
       "57698   28.0   Northeastern Italy  Friuli Isonzo          \n",
       "1435    32.0   Washington          Columbia Valley (WA)   \n",
       "8995    35.0   Loire Valley        Sancerre               \n",
       "\n",
       "                              variety  \n",
       "51953   Pinotage                       \n",
       "121449  Chardonnay                     \n",
       "51311   Sauvignon Blanc                \n",
       "44284   Moscato                        \n",
       "104510  Portuguese Red                 \n",
       "104566  Merlot                         \n",
       "117745  Pinot Noir                     \n",
       "57698   Pinot Grigio                   \n",
       "1435    Cabernet Sauvignon-Sangiovese  \n",
       "8995    Sauvignon Blanc                "
      ]
     },
     "execution_count": 16,
     "metadata": {},
     "output_type": "execute_result"
    }
   ],
   "source": [
    "df_q1.sample(10)"
   ]
  },
  {
   "cell_type": "markdown",
   "metadata": {},
   "source": [
    "We don't need the description column to answer this question. We will also want to remove any outliers in the next section."
   ]
  },
  {
   "cell_type": "markdown",
   "metadata": {},
   "source": [
    "### 3. Prepare Data"
   ]
  },
  {
   "cell_type": "code",
   "execution_count": 17,
   "metadata": {},
   "outputs": [],
   "source": [
    "# drop extraneous columns\n",
    "df_q1.drop(['description'], axis=1, inplace=True)"
   ]
  },
  {
   "cell_type": "code",
   "execution_count": 18,
   "metadata": {},
   "outputs": [
    {
     "data": {
      "text/html": [
       "<div>\n",
       "<style scoped>\n",
       "    .dataframe tbody tr th:only-of-type {\n",
       "        vertical-align: middle;\n",
       "    }\n",
       "\n",
       "    .dataframe tbody tr th {\n",
       "        vertical-align: top;\n",
       "    }\n",
       "\n",
       "    .dataframe thead th {\n",
       "        text-align: right;\n",
       "    }\n",
       "</style>\n",
       "<table border=\"1\" class=\"dataframe\">\n",
       "  <thead>\n",
       "    <tr style=\"text-align: right;\">\n",
       "      <th></th>\n",
       "      <th>country</th>\n",
       "      <th>price</th>\n",
       "      <th>province</th>\n",
       "      <th>region</th>\n",
       "      <th>variety</th>\n",
       "    </tr>\n",
       "  </thead>\n",
       "  <tbody>\n",
       "    <tr>\n",
       "      <th>85817</th>\n",
       "      <td>Spain</td>\n",
       "      <td>25.0</td>\n",
       "      <td>Galicia</td>\n",
       "      <td>Rías Baixas</td>\n",
       "      <td>Albariño</td>\n",
       "    </tr>\n",
       "    <tr>\n",
       "      <th>14245</th>\n",
       "      <td>US</td>\n",
       "      <td>19.0</td>\n",
       "      <td>Oregon</td>\n",
       "      <td>Willamette Valley</td>\n",
       "      <td>Pinot Gris</td>\n",
       "    </tr>\n",
       "    <tr>\n",
       "      <th>10058</th>\n",
       "      <td>Spain</td>\n",
       "      <td>19.0</td>\n",
       "      <td>Northern Spain</td>\n",
       "      <td>Vino de la Tierra de Castilla y León</td>\n",
       "      <td>Verdejo</td>\n",
       "    </tr>\n",
       "    <tr>\n",
       "      <th>17459</th>\n",
       "      <td>US</td>\n",
       "      <td>20.0</td>\n",
       "      <td>Oregon</td>\n",
       "      <td>Willamette Valley</td>\n",
       "      <td>Arneis</td>\n",
       "    </tr>\n",
       "    <tr>\n",
       "      <th>111005</th>\n",
       "      <td>Canada</td>\n",
       "      <td>23.0</td>\n",
       "      <td>Ontario</td>\n",
       "      <td>Niagara Peninsula</td>\n",
       "      <td>Riesling</td>\n",
       "    </tr>\n",
       "    <tr>\n",
       "      <th>31850</th>\n",
       "      <td>France</td>\n",
       "      <td>35.0</td>\n",
       "      <td>Alsace</td>\n",
       "      <td>Alsace</td>\n",
       "      <td>Pinot Noir</td>\n",
       "    </tr>\n",
       "    <tr>\n",
       "      <th>75174</th>\n",
       "      <td>Italy</td>\n",
       "      <td>60.0</td>\n",
       "      <td>Piedmont</td>\n",
       "      <td>Barolo</td>\n",
       "      <td>Nebbiolo</td>\n",
       "    </tr>\n",
       "    <tr>\n",
       "      <th>120082</th>\n",
       "      <td>France</td>\n",
       "      <td>45.0</td>\n",
       "      <td>Burgundy</td>\n",
       "      <td>Beaune</td>\n",
       "      <td>Pinot Noir</td>\n",
       "    </tr>\n",
       "    <tr>\n",
       "      <th>81883</th>\n",
       "      <td>Bulgaria</td>\n",
       "      <td>10.0</td>\n",
       "      <td>Thracian Valley</td>\n",
       "      <td>NaN</td>\n",
       "      <td>Cabernet Sauvignon</td>\n",
       "    </tr>\n",
       "    <tr>\n",
       "      <th>4396</th>\n",
       "      <td>US</td>\n",
       "      <td>35.0</td>\n",
       "      <td>California</td>\n",
       "      <td>Anderson Valley</td>\n",
       "      <td>Pinot Noir</td>\n",
       "    </tr>\n",
       "  </tbody>\n",
       "</table>\n",
       "</div>"
      ],
      "text/plain": [
       "         country  price         province  \\\n",
       "85817   Spain     25.0   Galicia           \n",
       "14245   US        19.0   Oregon            \n",
       "10058   Spain     19.0   Northern Spain    \n",
       "17459   US        20.0   Oregon            \n",
       "111005  Canada    23.0   Ontario           \n",
       "31850   France    35.0   Alsace            \n",
       "75174   Italy     60.0   Piedmont          \n",
       "120082  France    45.0   Burgundy          \n",
       "81883   Bulgaria  10.0   Thracian Valley   \n",
       "4396    US        35.0   California        \n",
       "\n",
       "                                      region             variety  \n",
       "85817   Rías Baixas                           Albariño            \n",
       "14245   Willamette Valley                     Pinot Gris          \n",
       "10058   Vino de la Tierra de Castilla y León  Verdejo             \n",
       "17459   Willamette Valley                     Arneis              \n",
       "111005  Niagara Peninsula                     Riesling            \n",
       "31850   Alsace                                Pinot Noir          \n",
       "75174   Barolo                                Nebbiolo            \n",
       "120082  Beaune                                Pinot Noir          \n",
       "81883   NaN                                   Cabernet Sauvignon  \n",
       "4396    Anderson Valley                       Pinot Noir          "
      ]
     },
     "execution_count": 18,
     "metadata": {},
     "output_type": "execute_result"
    }
   ],
   "source": [
    "df_q1.sample(10)"
   ]
  },
  {
   "cell_type": "code",
   "execution_count": 19,
   "metadata": {},
   "outputs": [
    {
     "name": "stdout",
     "output_type": "stream",
     "text": [
      "Unique country values before filtering: 43\n",
      "Unique country values after filtering: 21\n",
      "Unique province values before filtering: 357\n",
      "Unique province values after filtering: 175\n",
      "Unique region values before filtering: 1150\n",
      "Unique region values after filtering: 565\n",
      "Unique variety values before filtering: 466\n",
      "Unique variety values after filtering: 223\n"
     ]
    },
    {
     "data": {
      "text/html": [
       "<div>\n",
       "<style scoped>\n",
       "    .dataframe tbody tr th:only-of-type {\n",
       "        vertical-align: middle;\n",
       "    }\n",
       "\n",
       "    .dataframe tbody tr th {\n",
       "        vertical-align: top;\n",
       "    }\n",
       "\n",
       "    .dataframe thead th {\n",
       "        text-align: right;\n",
       "    }\n",
       "</style>\n",
       "<table border=\"1\" class=\"dataframe\">\n",
       "  <thead>\n",
       "    <tr style=\"text-align: right;\">\n",
       "      <th></th>\n",
       "      <th>country</th>\n",
       "      <th>price</th>\n",
       "      <th>province</th>\n",
       "      <th>region</th>\n",
       "      <th>variety</th>\n",
       "    </tr>\n",
       "  </thead>\n",
       "  <tbody>\n",
       "    <tr>\n",
       "      <th>0</th>\n",
       "      <td>US</td>\n",
       "      <td>14.0</td>\n",
       "      <td>Oregon</td>\n",
       "      <td>Willamette Valley</td>\n",
       "      <td>Pinot Gris</td>\n",
       "    </tr>\n",
       "    <tr>\n",
       "      <th>1</th>\n",
       "      <td>US</td>\n",
       "      <td>13.0</td>\n",
       "      <td>Michigan</td>\n",
       "      <td>Lake Michigan Shore</td>\n",
       "      <td>Riesling</td>\n",
       "    </tr>\n",
       "    <tr>\n",
       "      <th>2</th>\n",
       "      <td>US</td>\n",
       "      <td>65.0</td>\n",
       "      <td>Oregon</td>\n",
       "      <td>Willamette Valley</td>\n",
       "      <td>Pinot Noir</td>\n",
       "    </tr>\n",
       "    <tr>\n",
       "      <th>3</th>\n",
       "      <td>Italy</td>\n",
       "      <td>16.0</td>\n",
       "      <td>Sicily &amp; Sardinia</td>\n",
       "      <td>Vittoria</td>\n",
       "      <td>Frappato</td>\n",
       "    </tr>\n",
       "    <tr>\n",
       "      <th>4</th>\n",
       "      <td>France</td>\n",
       "      <td>24.0</td>\n",
       "      <td>Alsace</td>\n",
       "      <td>Alsace</td>\n",
       "      <td>Gewürztraminer</td>\n",
       "    </tr>\n",
       "    <tr>\n",
       "      <th>...</th>\n",
       "      <td>...</td>\n",
       "      <td>...</td>\n",
       "      <td>...</td>\n",
       "      <td>...</td>\n",
       "      <td>...</td>\n",
       "    </tr>\n",
       "    <tr>\n",
       "      <th>84139</th>\n",
       "      <td>France</td>\n",
       "      <td>28.0</td>\n",
       "      <td>Alsace</td>\n",
       "      <td>Alsace</td>\n",
       "      <td>Pinot Gris</td>\n",
       "    </tr>\n",
       "    <tr>\n",
       "      <th>84140</th>\n",
       "      <td>US</td>\n",
       "      <td>75.0</td>\n",
       "      <td>Oregon</td>\n",
       "      <td>Oregon</td>\n",
       "      <td>Pinot Noir</td>\n",
       "    </tr>\n",
       "    <tr>\n",
       "      <th>84141</th>\n",
       "      <td>France</td>\n",
       "      <td>30.0</td>\n",
       "      <td>Alsace</td>\n",
       "      <td>Alsace</td>\n",
       "      <td>Gewürztraminer</td>\n",
       "    </tr>\n",
       "    <tr>\n",
       "      <th>84142</th>\n",
       "      <td>France</td>\n",
       "      <td>32.0</td>\n",
       "      <td>Alsace</td>\n",
       "      <td>Alsace</td>\n",
       "      <td>Pinot Gris</td>\n",
       "    </tr>\n",
       "    <tr>\n",
       "      <th>84143</th>\n",
       "      <td>France</td>\n",
       "      <td>21.0</td>\n",
       "      <td>Alsace</td>\n",
       "      <td>Alsace</td>\n",
       "      <td>Gewürztraminer</td>\n",
       "    </tr>\n",
       "  </tbody>\n",
       "</table>\n",
       "<p>84144 rows × 5 columns</p>\n",
       "</div>"
      ],
      "text/plain": [
       "      country  price           province               region         variety\n",
       "0      US      14.0   Oregon             Willamette Valley    Pinot Gris    \n",
       "1      US      13.0   Michigan           Lake Michigan Shore  Riesling      \n",
       "2      US      65.0   Oregon             Willamette Valley    Pinot Noir    \n",
       "3      Italy   16.0   Sicily & Sardinia  Vittoria             Frappato      \n",
       "4      France  24.0   Alsace             Alsace               Gewürztraminer\n",
       "...       ...   ...      ...                ...                          ...\n",
       "84139  France  28.0   Alsace             Alsace               Pinot Gris    \n",
       "84140  US      75.0   Oregon             Oregon               Pinot Noir    \n",
       "84141  France  30.0   Alsace             Alsace               Gewürztraminer\n",
       "84142  France  32.0   Alsace             Alsace               Pinot Gris    \n",
       "84143  France  21.0   Alsace             Alsace               Gewürztraminer\n",
       "\n",
       "[84144 rows x 5 columns]"
      ]
     },
     "execution_count": 19,
     "metadata": {},
     "output_type": "execute_result"
    }
   ],
   "source": [
    "# remove outliers from the dataframe\n",
    "df_q1 = filter_outliers(df_q1, \"country\", \"price\")\n",
    "df_q1 = filter_outliers(df_q1, \"province\", \"price\")\n",
    "df_q1 = filter_outliers(df_q1, \"region\", \"price\")\n",
    "df_q1 = filter_outliers(df_q1, \"variety\", \"price\").reset_index(drop=True)\n",
    "df_q1"
   ]
  },
  {
   "cell_type": "code",
   "execution_count": 20,
   "metadata": {},
   "outputs": [
    {
     "data": {
      "text/plain": [
       "<Figure size 864x576 with 0 Axes>"
      ]
     },
     "execution_count": 20,
     "metadata": {},
     "output_type": "execute_result"
    },
    {
     "data": {
      "text/plain": [
       "<Figure size 864x576 with 0 Axes>"
      ]
     },
     "execution_count": 20,
     "metadata": {},
     "output_type": "execute_result"
    },
    {
     "data": {
      "text/plain": [
       "[Text(0, 0.5, 'Country of Origin'),\n",
       " Text(0.5, 0, 'Wine Price'),\n",
       " Text(0.5, 1.0, 'Top/Bottom Median Price of Wines by Country of Origin')]"
      ]
     },
     "execution_count": 20,
     "metadata": {},
     "output_type": "execute_result"
    },
    {
     "data": {
      "text/plain": [
       "<Figure size 864x576 with 0 Axes>"
      ]
     },
     "metadata": {},
     "output_type": "display_data"
    },
    {
     "data": {
      "image/png": "[encoded data removed]",
      "text/plain": [
       "<Figure size 864x576 with 1 Axes>"
      ]
     },
     "metadata": {
      "needs_background": "light"
     },
     "output_type": "display_data"
    }
   ],
   "source": [
    "# create a bar chart to illustrate prices by country of origin\n",
    "plt.figure(figsize=(12,8))\n",
    "\n",
    "# group by country and sort by highest price\n",
    "by_country = df_q1.groupby(['country']).median().sort_values(by=['price'], ascending=False).reset_index()\n",
    "\n",
    "plt.figure(figsize=(12,8))\n",
    "ax = sns.barplot(x=\"price\", y=\"country\", data=by_country)\n",
    "ax.set(xlabel='Wine Price', ylabel='Country of Origin', title='Top/Bottom Median Price of Wines by Country of Origin')\n",
    "plt.show()"
   ]
  },
  {
   "cell_type": "code",
   "execution_count": 21,
   "metadata": {},
   "outputs": [
    {
     "data": {
      "text/plain": [
       "<Figure size 864x576 with 0 Axes>"
      ]
     },
     "execution_count": 21,
     "metadata": {},
     "output_type": "execute_result"
    },
    {
     "data": {
      "text/plain": [
       "[Text(0, 0.5, 'Wine Variety'),\n",
       " Text(0.5, 0, 'Wine Price'),\n",
       " Text(0.5, 1.0, 'Top/Bottom Median Price of Wine by Variety')]"
      ]
     },
     "execution_count": 21,
     "metadata": {},
     "output_type": "execute_result"
    },
    {
     "data": {
      "image/png": "[encoded data removed]",
      "text/plain": [
       "<Figure size 864x576 with 1 Axes>"
      ]
     },
     "metadata": {
      "needs_background": "light"
     },
     "output_type": "display_data"
    }
   ],
   "source": [
    "# group by variety and sort by highest price\n",
    "by_variety = df_q1.groupby(['variety']).median().sort_values(by=['price'], ascending=False).reset_index()\n",
    "\n",
    "# create a bar chart to illustrate prices by variety\n",
    "plt.figure(figsize=(12,8))\n",
    "ax = sns.barplot(x=\"price\", y=\"variety\", data=pd.concat([by_variety.head(10), by_variety.tail(10)]))\n",
    "ax.set(xlabel='Wine Price', ylabel='Wine Variety', title='Top/Bottom Median Price of Wine by Variety')\n",
    "plt.show()"
   ]
  },
  {
   "cell_type": "code",
   "execution_count": 22,
   "metadata": {
    "scrolled": false
   },
   "outputs": [
    {
     "data": {
      "text/plain": [
       "<Figure size 864x576 with 0 Axes>"
      ]
     },
     "execution_count": 22,
     "metadata": {},
     "output_type": "execute_result"
    },
    {
     "data": {
      "text/plain": [
       "[Text(0, 0.5, 'Region of Origin'),\n",
       " Text(0.5, 0, 'Wine Price'),\n",
       " Text(0.5, 1.0, 'Top/Bottom Median Price of Wine by Region')]"
      ]
     },
     "execution_count": 22,
     "metadata": {},
     "output_type": "execute_result"
    },
    {
     "data": {
      "image/png": "[encoded data removed]",
      "text/plain": [
       "<Figure size 864x576 with 1 Axes>"
      ]
     },
     "metadata": {
      "needs_background": "light"
     },
     "output_type": "display_data"
    }
   ],
   "source": [
    "# group by country/province/region and sort by highest price\n",
    "by_region = df_q1.groupby(['country', 'province', 'region']).median().sort_values(by=['price'], ascending=False).reset_index()\n",
    "by_region_top_bottom = pd.concat([by_region.head(10), by_region.tail(10)])\n",
    "by_region_top_bottom['combined'] = by_region['country'] + \":\" + by_region['province'] + \":\" + by_region['region']\n",
    "\n",
    "# create a bar chart to illustrate prices by region\n",
    "plt.figure(figsize=(12,8))\n",
    "ax = sns.barplot(x=\"price\", y=\"combined\", data=by_region_top_bottom)\n",
    "ax.set(xlabel='Wine Price', ylabel='Region of Origin', title='Top/Bottom Median Price of Wine by Region')\n",
    "plt.show()"
   ]
  },
  {
   "cell_type": "markdown",
   "metadata": {},
   "source": [
    "#### Are certain countries producing more of one type of wine that might skew the results? Let's normalize for variety."
   ]
  },
  {
   "cell_type": "code",
   "execution_count": 23,
   "metadata": {},
   "outputs": [],
   "source": [
    "def compare_price_normalizing_variety(x):\n",
    "    '''\n",
    "    return price ratio after normalizing for variety\n",
    "    '''\n",
    "    y = by_variety[by_variety['variety'] == x.variety]['price']\n",
    "    return x.price / y.iloc[0] if y is not None and y.size > 0 else None "
   ]
  },
  {
   "cell_type": "code",
   "execution_count": 24,
   "metadata": {},
   "outputs": [],
   "source": [
    "# group by country/variety and normalize price\n",
    "country_normalized_variety = df_q1.groupby(['country', 'variety']).median().sort_values(by=['price'], ascending=False).reset_index()\n",
    "country_normalized_variety['ratio'] = country_normalized_variety.apply(lambda x: compare_price_normalizing_variety(x), axis=1)"
   ]
  },
  {
   "cell_type": "code",
   "execution_count": 25,
   "metadata": {},
   "outputs": [
    {
     "data": {
      "text/plain": [
       "<Figure size 864x576 with 0 Axes>"
      ]
     },
     "execution_count": 25,
     "metadata": {},
     "output_type": "execute_result"
    },
    {
     "data": {
      "text/plain": [
       "[Text(0, 0.5, 'Country of Origin'),\n",
       " Text(0.5, 0, 'Price Ratio'),\n",
       " Text(0.5, 1.0, 'Top Origin Country Prices Normalized By Variety')]"
      ]
     },
     "execution_count": 25,
     "metadata": {},
     "output_type": "execute_result"
    },
    {
     "data": {
      "image/png": "[encoded data removed]",
      "text/plain": [
       "<Figure size 864x576 with 1 Axes>"
      ]
     },
     "metadata": {
      "needs_background": "light"
     },
     "output_type": "display_data"
    }
   ],
   "source": [
    "# group by country and sort by highest ratio\n",
    "country_normalized_variety_diff = country_normalized_variety.groupby(['country']).mean().sort_values(by=['ratio'], ascending=False).reset_index()\n",
    "\n",
    "# create bar chart\n",
    "plt.figure(figsize=(12,8))\n",
    "ax = sns.barplot(x=\"ratio\", y=\"country\", data=country_normalized_variety_diff)\n",
    "ax.set(xlabel='Price Ratio', ylabel='Country of Origin', title='Top Origin Country Prices Normalized By Variety')\n",
    "plt.show()"
   ]
  },
  {
   "cell_type": "markdown",
   "metadata": {},
   "source": [
    "#### Are certain varieties only grown in certain countries thus skewing the results? Let's normalize for country."
   ]
  },
  {
   "cell_type": "code",
   "execution_count": 26,
   "metadata": {},
   "outputs": [],
   "source": [
    "def compare_price_normalizing_country(x):\n",
    "    '''\n",
    "    return price ratio after normalizing for country\n",
    "    '''\n",
    "    y = by_country[by_country['country'] == x.country]['price']\n",
    "    return x.price / y.iloc[0] if y is not None and y.size > 0 else None "
   ]
  },
  {
   "cell_type": "code",
   "execution_count": 27,
   "metadata": {},
   "outputs": [],
   "source": [
    "# group by country/variety and normalize price\n",
    "variety_normalized_country = df_q1.groupby(['country', 'variety']).median().sort_values(by=['price'], ascending=False).reset_index()\n",
    "variety_normalized_country['ratio'] = variety_normalized_country.apply(lambda x: compare_price_normalizing_country(x), axis=1)"
   ]
  },
  {
   "cell_type": "code",
   "execution_count": 28,
   "metadata": {},
   "outputs": [
    {
     "data": {
      "text/plain": [
       "<Figure size 864x576 with 0 Axes>"
      ]
     },
     "execution_count": 28,
     "metadata": {},
     "output_type": "execute_result"
    },
    {
     "data": {
      "text/plain": [
       "[Text(0, 0.5, 'Wine Variety'),\n",
       " Text(0.5, 0, 'Price Ratio'),\n",
       " Text(0.5, 1.0, 'Top Wine Variety Prices Normalized By Country')]"
      ]
     },
     "execution_count": 28,
     "metadata": {},
     "output_type": "execute_result"
    },
    {
     "data": {
      "image/png": "[encoded data removed]",
      "text/plain": [
       "<Figure size 864x576 with 1 Axes>"
      ]
     },
     "metadata": {
      "needs_background": "light"
     },
     "output_type": "display_data"
    }
   ],
   "source": [
    "# group by country and sort by highest ratio\n",
    "variety_normalized_country_diff = variety_normalized_country.groupby(['variety']).mean().sort_values(by=['ratio'], ascending=False).reset_index()\n",
    "\n",
    "# create bar chart\n",
    "plt.figure(figsize=(12,8))\n",
    "ax = sns.barplot(x=\"ratio\", y=\"variety\", data=pd.concat([variety_normalized_country_diff.head(10), variety_normalized_country_diff.tail(10)]))\n",
    "ax.set(xlabel='Price Ratio', ylabel='Wine Variety', title='Top Wine Variety Prices Normalized By Country')\n",
    "plt.show()"
   ]
  },
  {
   "cell_type": "markdown",
   "metadata": {},
   "source": [
    "### 4. Evaluate the Results"
   ]
  },
  {
   "cell_type": "markdown",
   "metadata": {},
   "source": [
    "The graphs above clearly show there is a large variance between countries, varieties, and regions. The US and Canada have the highest priced wines, while Spain and Argentina have the lowest. Picolit and Nebbiolo are the highest priced varieties, while Chenin Blanc-Viognier and White Riesling are the lowest.\n",
    "\n",
    "This data obviously ignores variables like cost to develop, taxes, etc that might affect the price and profit. Our intent is only to show how the data present in WineEnthusiast might help a winery set their initial pricing range."
   ]
  },
  {
   "cell_type": "markdown",
   "metadata": {},
   "source": [
    "## Q2: What reviewer descriptors are linked to the highest priced wines?"
   ]
  },
  {
   "cell_type": "markdown",
   "metadata": {},
   "source": [
    "### 1. Business Understanding"
   ]
  },
  {
   "cell_type": "markdown",
   "metadata": {},
   "source": [
    "The WineEnthusiast data includes text reviews for each wine by an expert reviewer. Do these experts use common words to describe higher or lower priced wines? Could a winery hire a reviewer and use the review to help price the wine?"
   ]
  },
  {
   "cell_type": "markdown",
   "metadata": {},
   "source": [
    "### 2. Data Understanding"
   ]
  },
  {
   "cell_type": "code",
   "execution_count": 29,
   "metadata": {},
   "outputs": [],
   "source": [
    "df_q2 = df.copy()"
   ]
  },
  {
   "cell_type": "code",
   "execution_count": 30,
   "metadata": {},
   "outputs": [
    {
     "data": {
      "text/html": [
       "<div>\n",
       "<style scoped>\n",
       "    .dataframe tbody tr th:only-of-type {\n",
       "        vertical-align: middle;\n",
       "    }\n",
       "\n",
       "    .dataframe tbody tr th {\n",
       "        vertical-align: top;\n",
       "    }\n",
       "\n",
       "    .dataframe thead th {\n",
       "        text-align: right;\n",
       "    }\n",
       "</style>\n",
       "<table border=\"1\" class=\"dataframe\">\n",
       "  <thead>\n",
       "    <tr style=\"text-align: right;\">\n",
       "      <th></th>\n",
       "      <th>country</th>\n",
       "      <th>description</th>\n",
       "      <th>price</th>\n",
       "      <th>province</th>\n",
       "      <th>region</th>\n",
       "      <th>variety</th>\n",
       "    </tr>\n",
       "  </thead>\n",
       "  <tbody>\n",
       "    <tr>\n",
       "      <th>1</th>\n",
       "      <td>Portugal</td>\n",
       "      <td>This is ripe and fruity, a wine that is smooth while still structured. Firm tannins are filled out with juicy red berry fruits and freshened with acidity. It's  already drinkable, although it will certainly be better from 2016.</td>\n",
       "      <td>15.0</td>\n",
       "      <td>Douro</td>\n",
       "      <td>NaN</td>\n",
       "      <td>Portuguese Red</td>\n",
       "    </tr>\n",
       "    <tr>\n",
       "      <th>2</th>\n",
       "      <td>US</td>\n",
       "      <td>Tart and snappy, the flavors of lime flesh and rind dominate. Some green pineapple pokes through, with crisp acidity underscoring the flavors. The wine was all stainless-steel fermented.</td>\n",
       "      <td>14.0</td>\n",
       "      <td>Oregon</td>\n",
       "      <td>Willamette Valley</td>\n",
       "      <td>Pinot Gris</td>\n",
       "    </tr>\n",
       "    <tr>\n",
       "      <th>3</th>\n",
       "      <td>US</td>\n",
       "      <td>Pineapple rind, lemon pith and orange blossom start off the aromas. The palate is a bit more opulent, with notes of honey-drizzled guava and mango giving way to a slightly astringent, semidry finish.</td>\n",
       "      <td>13.0</td>\n",
       "      <td>Michigan</td>\n",
       "      <td>Lake Michigan Shore</td>\n",
       "      <td>Riesling</td>\n",
       "    </tr>\n",
       "    <tr>\n",
       "      <th>4</th>\n",
       "      <td>US</td>\n",
       "      <td>Much like the regular bottling from 2012, this comes across as rather rough and tannic, with rustic, earthy, herbal characteristics. Nonetheless, if you think of it as a pleasantly unfussy country wine, it's a good companion to a hearty winter stew.</td>\n",
       "      <td>65.0</td>\n",
       "      <td>Oregon</td>\n",
       "      <td>Willamette Valley</td>\n",
       "      <td>Pinot Noir</td>\n",
       "    </tr>\n",
       "    <tr>\n",
       "      <th>5</th>\n",
       "      <td>Spain</td>\n",
       "      <td>Blackberry and raspberry aromas show a typical Navarran whiff of green herbs and, in this case, horseradish. In the mouth, this is fairly full bodied, with tomatoey acidity. Spicy, herbal flavors complement dark plum fruit, while the finish is fresh but grabby.</td>\n",
       "      <td>15.0</td>\n",
       "      <td>Northern Spain</td>\n",
       "      <td>Navarra</td>\n",
       "      <td>Tempranillo-Merlot</td>\n",
       "    </tr>\n",
       "  </tbody>\n",
       "</table>\n",
       "</div>"
      ],
      "text/plain": [
       "    country  \\\n",
       "1  Portugal   \n",
       "2  US         \n",
       "3  US         \n",
       "4  US         \n",
       "5  Spain      \n",
       "\n",
       "                                                                                                                                                                                                                                                             description  \\\n",
       "1  This is ripe and fruity, a wine that is smooth while still structured. Firm tannins are filled out with juicy red berry fruits and freshened with acidity. It's  already drinkable, although it will certainly be better from 2016.                                     \n",
       "2  Tart and snappy, the flavors of lime flesh and rind dominate. Some green pineapple pokes through, with crisp acidity underscoring the flavors. The wine was all stainless-steel fermented.                                                                              \n",
       "3  Pineapple rind, lemon pith and orange blossom start off the aromas. The palate is a bit more opulent, with notes of honey-drizzled guava and mango giving way to a slightly astringent, semidry finish.                                                                 \n",
       "4  Much like the regular bottling from 2012, this comes across as rather rough and tannic, with rustic, earthy, herbal characteristics. Nonetheless, if you think of it as a pleasantly unfussy country wine, it's a good companion to a hearty winter stew.               \n",
       "5  Blackberry and raspberry aromas show a typical Navarran whiff of green herbs and, in this case, horseradish. In the mouth, this is fairly full bodied, with tomatoey acidity. Spicy, herbal flavors complement dark plum fruit, while the finish is fresh but grabby.   \n",
       "\n",
       "   price        province               region             variety  \n",
       "1  15.0   Douro           NaN                  Portuguese Red      \n",
       "2  14.0   Oregon          Willamette Valley    Pinot Gris          \n",
       "3  13.0   Michigan        Lake Michigan Shore  Riesling            \n",
       "4  65.0   Oregon          Willamette Valley    Pinot Noir          \n",
       "5  15.0   Northern Spain  Navarra              Tempranillo-Merlot  "
      ]
     },
     "execution_count": 30,
     "metadata": {},
     "output_type": "execute_result"
    }
   ],
   "source": [
    "df_q2.head()"
   ]
  },
  {
   "cell_type": "markdown",
   "metadata": {},
   "source": [
    "To answer this question, we do not need any information about the winery location or the wine variety. We will remove these columns in the next section."
   ]
  },
  {
   "cell_type": "markdown",
   "metadata": {},
   "source": [
    "### 3. Prepare Data"
   ]
  },
  {
   "cell_type": "code",
   "execution_count": 31,
   "metadata": {},
   "outputs": [],
   "source": [
    "# drop columns\n",
    "df_q2.drop(['country', 'province', 'region', 'variety'],\n",
    "           axis=1, inplace=True)"
   ]
  },
  {
   "cell_type": "code",
   "execution_count": 32,
   "metadata": {},
   "outputs": [
    {
     "data": {
      "text/html": [
       "<div>\n",
       "<style scoped>\n",
       "    .dataframe tbody tr th:only-of-type {\n",
       "        vertical-align: middle;\n",
       "    }\n",
       "\n",
       "    .dataframe tbody tr th {\n",
       "        vertical-align: top;\n",
       "    }\n",
       "\n",
       "    .dataframe thead th {\n",
       "        text-align: right;\n",
       "    }\n",
       "</style>\n",
       "<table border=\"1\" class=\"dataframe\">\n",
       "  <thead>\n",
       "    <tr style=\"text-align: right;\">\n",
       "      <th></th>\n",
       "      <th>description</th>\n",
       "      <th>price</th>\n",
       "    </tr>\n",
       "  </thead>\n",
       "  <tbody>\n",
       "    <tr>\n",
       "      <th>36165</th>\n",
       "      <td>Here is a generous, full-throttle, high-octane Zin, with lots of rich oak accents and a touch of sweetness. Aromas of strawberry jam, maple syrup and hickory-smoked bacon are followed by rich fruit flavors, full body, light tannins and a jammy finish.</td>\n",
       "      <td>20.0</td>\n",
       "    </tr>\n",
       "    <tr>\n",
       "      <th>61734</th>\n",
       "      <td>Named for the Servite convent in the town of Borba, this fresh, crisp and tangy wine is citric, with almond and apple overtones. It's young, fruity and made for immediate consumption.</td>\n",
       "      <td>7.0</td>\n",
       "    </tr>\n",
       "    <tr>\n",
       "      <th>46457</th>\n",
       "      <td>A healthy wine with plenty of oak. On the nose, it's charred as well as fruity, with raspberry and plum aromas blending with vanilla. Feels tight and grippy, with dry oak, herbal flavors and fresh red berry and tomato. Finishes clean and snappy, with correct weight and length. Drink now through 2013.</td>\n",
       "      <td>15.0</td>\n",
       "    </tr>\n",
       "    <tr>\n",
       "      <th>55577</th>\n",
       "      <td>Vibrant, tart aromas of green gooseberries and lime rind elevate the underlying hay and fresh thyme herbal accents. Lean, barely ripe white peach and hard pear add volume to the medium-weight mouth. Balanced and seamless with a clean, refreshing finish. Drink up!</td>\n",
       "      <td>10.0</td>\n",
       "    </tr>\n",
       "    <tr>\n",
       "      <th>112359</th>\n",
       "      <td>The lighter-style nose that focuses on red plum and cherry is a welcome change from all of the heavy Malbecs out there, but the wine doesn't follow through on the palate. It becomes astringent, with tastes of tomato, stewed berry and cranberry.</td>\n",
       "      <td>17.0</td>\n",
       "    </tr>\n",
       "    <tr>\n",
       "      <th>3290</th>\n",
       "      <td>The bouquet here is very floral and intense: you'll get jasmine, honeysuckle, sweet apple, mango and other exotic fruits. The wine tastes clean, sweet and dense and has fragrant flavors that accompany you glass after glass.</td>\n",
       "      <td>18.0</td>\n",
       "    </tr>\n",
       "    <tr>\n",
       "      <th>101999</th>\n",
       "      <td>Opens with light but earthy raspberry aromas and plum, and then it breaks up a bit with airing. The palate is lean but fresh and gritty, with cherry and cola flavors in front of a limited, narrow finish. Run-of-the-mill, which isn't bad given the price.</td>\n",
       "      <td>8.0</td>\n",
       "    </tr>\n",
       "    <tr>\n",
       "      <th>41181</th>\n",
       "      <td>A bit more lacy and less fleshy than the previous vintage, it augments its strawberry and raspberry fruit with barrel notes of baking spices and a hint of char. Give it plenty of breathing time and it pulls together nicely.</td>\n",
       "      <td>38.0</td>\n",
       "    </tr>\n",
       "    <tr>\n",
       "      <th>124396</th>\n",
       "      <td>A standout in a flight of more expensive wines, this five-grape blend leans heavily on the Bordeaux varietals, with a bit of Syrah as well. Firm and complex, its black cherry, cassis and plum fruit flavors are nicely accented by baking spices and red licorice. The balance is perfect; the finish carries a suggestion of dried leaf.</td>\n",
       "      <td>19.0</td>\n",
       "    </tr>\n",
       "    <tr>\n",
       "      <th>56943</th>\n",
       "      <td>Soupy, volatile plum and berry aromas are stalky. The palate is adequate but sticky, while saucy but sweet plum flavors fall off quickly on the finish.</td>\n",
       "      <td>8.0</td>\n",
       "    </tr>\n",
       "  </tbody>\n",
       "</table>\n",
       "</div>"
      ],
      "text/plain": [
       "                                                                                                                                                                                                                                                                                                                                        description  \\\n",
       "36165   Here is a generous, full-throttle, high-octane Zin, with lots of rich oak accents and a touch of sweetness. Aromas of strawberry jam, maple syrup and hickory-smoked bacon are followed by rich fruit flavors, full body, light tannins and a jammy finish.                                                                                   \n",
       "61734   Named for the Servite convent in the town of Borba, this fresh, crisp and tangy wine is citric, with almond and apple overtones. It's young, fruity and made for immediate consumption.                                                                                                                                                       \n",
       "46457   A healthy wine with plenty of oak. On the nose, it's charred as well as fruity, with raspberry and plum aromas blending with vanilla. Feels tight and grippy, with dry oak, herbal flavors and fresh red berry and tomato. Finishes clean and snappy, with correct weight and length. Drink now through 2013.                                 \n",
       "55577   Vibrant, tart aromas of green gooseberries and lime rind elevate the underlying hay and fresh thyme herbal accents. Lean, barely ripe white peach and hard pear add volume to the medium-weight mouth. Balanced and seamless with a clean, refreshing finish. Drink up!                                                                       \n",
       "112359  The lighter-style nose that focuses on red plum and cherry is a welcome change from all of the heavy Malbecs out there, but the wine doesn't follow through on the palate. It becomes astringent, with tastes of tomato, stewed berry and cranberry.                                                                                          \n",
       "3290    The bouquet here is very floral and intense: you'll get jasmine, honeysuckle, sweet apple, mango and other exotic fruits. The wine tastes clean, sweet and dense and has fragrant flavors that accompany you glass after glass.                                                                                                               \n",
       "101999  Opens with light but earthy raspberry aromas and plum, and then it breaks up a bit with airing. The palate is lean but fresh and gritty, with cherry and cola flavors in front of a limited, narrow finish. Run-of-the-mill, which isn't bad given the price.                                                                                 \n",
       "41181   A bit more lacy and less fleshy than the previous vintage, it augments its strawberry and raspberry fruit with barrel notes of baking spices and a hint of char. Give it plenty of breathing time and it pulls together nicely.                                                                                                               \n",
       "124396  A standout in a flight of more expensive wines, this five-grape blend leans heavily on the Bordeaux varietals, with a bit of Syrah as well. Firm and complex, its black cherry, cassis and plum fruit flavors are nicely accented by baking spices and red licorice. The balance is perfect; the finish carries a suggestion of dried leaf.   \n",
       "56943   Soupy, volatile plum and berry aromas are stalky. The palate is adequate but sticky, while saucy but sweet plum flavors fall off quickly on the finish.                                                                                                                                                                                       \n",
       "\n",
       "        price  \n",
       "36165   20.0   \n",
       "61734   7.0    \n",
       "46457   15.0   \n",
       "55577   10.0   \n",
       "112359  17.0   \n",
       "3290    18.0   \n",
       "101999  8.0    \n",
       "41181   38.0   \n",
       "124396  19.0   \n",
       "56943   8.0    "
      ]
     },
     "execution_count": 32,
     "metadata": {},
     "output_type": "execute_result"
    }
   ],
   "source": [
    "df_q2.sample(10)"
   ]
  },
  {
   "cell_type": "code",
   "execution_count": 33,
   "metadata": {},
   "outputs": [],
   "source": [
    "# filter the descriptions removing stop words, punctation, and numerics. Return the list of words\n",
    "description = df_q2['description'].apply(get_filtered_list).explode().to_frame()\n",
    "description.rename(columns={\"description\": \"word\"}, inplace=True)\n",
    "\n",
    "# merge words with main data frame\n",
    "words = pd.concat([df_q2, description], axis=1).drop(columns=['description']).reset_index(drop=True)"
   ]
  },
  {
   "cell_type": "code",
   "execution_count": 34,
   "metadata": {},
   "outputs": [],
   "source": [
    "# only use descriptor words with 100 instances and find the mean price\n",
    "means = words.groupby(['word']).filter(lambda x: len(x['price']) > 100).groupby(['word']).price.agg('mean').to_frame('mean').reset_index()\n",
    "means = means.sort_values(by=['mean'], ascending=False).reset_index(drop=True)"
   ]
  },
  {
   "cell_type": "markdown",
   "metadata": {},
   "source": [
    "### 4. Evaluate the Results"
   ]
  },
  {
   "cell_type": "code",
   "execution_count": 35,
   "metadata": {},
   "outputs": [
    {
     "data": {
      "text/plain": [
       "<Figure size 864x1800 with 0 Axes>"
      ]
     },
     "execution_count": 35,
     "metadata": {},
     "output_type": "execute_result"
    },
    {
     "data": {
      "text/plain": [
       "[Text(0, 0.5, 'Word'),\n",
       " Text(0.5, 0, 'Mean Price'),\n",
       " Text(0.5, 1.0, 'Top/Bottom 25 Descriptor Words By Mean Price')]"
      ]
     },
     "execution_count": 35,
     "metadata": {},
     "output_type": "execute_result"
    },
    {
     "data": {
      "image/png": "[encoded data removed]",
      "text/plain": [
       "<Figure size 864x1800 with 1 Axes>"
      ]
     },
     "metadata": {
      "needs_background": "light"
     },
     "output_type": "display_data"
    }
   ],
   "source": [
    "# create a bar chart to show mean price of the 50 most used descriptor words\n",
    "plt.figure(figsize=(12,25))\n",
    "ax = sns.barplot(x=\"mean\", y=\"word\", data=pd.concat([means.head(25), means.tail(25)]))\n",
    "ax.set(xlabel='Mean Price', ylabel='Word', title='Top/Bottom 25 Descriptor Words By Mean Price')\n",
    "plt.show()"
   ]
  },
  {
   "cell_type": "markdown",
   "metadata": {},
   "source": [
    "The chart above illustrates the words that are commonly found in high and low priced wines. In the next section we will determine if this data can be used in our model."
   ]
  },
  {
   "cell_type": "markdown",
   "metadata": {},
   "source": [
    "## Q3: Can we create a model that predicts an optimal price?"
   ]
  },
  {
   "cell_type": "markdown",
   "metadata": {},
   "source": [
    "### 1. Business Understanding"
   ]
  },
  {
   "cell_type": "markdown",
   "metadata": {},
   "source": [
    "We've seen charts above that show different features of high and low priced wine. Can we use these features to create a model that might predict a target price for a new wine? The next sections will explore this question."
   ]
  },
  {
   "cell_type": "markdown",
   "metadata": {},
   "source": [
    "### 2. Data Understanding"
   ]
  },
  {
   "cell_type": "code",
   "execution_count": 36,
   "metadata": {},
   "outputs": [],
   "source": [
    "df_q3 = df.copy()"
   ]
  },
  {
   "cell_type": "code",
   "execution_count": 37,
   "metadata": {},
   "outputs": [
    {
     "data": {
      "text/html": [
       "<div>\n",
       "<style scoped>\n",
       "    .dataframe tbody tr th:only-of-type {\n",
       "        vertical-align: middle;\n",
       "    }\n",
       "\n",
       "    .dataframe tbody tr th {\n",
       "        vertical-align: top;\n",
       "    }\n",
       "\n",
       "    .dataframe thead th {\n",
       "        text-align: right;\n",
       "    }\n",
       "</style>\n",
       "<table border=\"1\" class=\"dataframe\">\n",
       "  <thead>\n",
       "    <tr style=\"text-align: right;\">\n",
       "      <th></th>\n",
       "      <th>country</th>\n",
       "      <th>description</th>\n",
       "      <th>price</th>\n",
       "      <th>province</th>\n",
       "      <th>region</th>\n",
       "      <th>variety</th>\n",
       "    </tr>\n",
       "  </thead>\n",
       "  <tbody>\n",
       "    <tr>\n",
       "      <th>1</th>\n",
       "      <td>Portugal</td>\n",
       "      <td>This is ripe and fruity, a wine that is smooth while still structured. Firm tannins are filled out with juicy red berry fruits and freshened with acidity. It's  already drinkable, although it will certainly be better from 2016.</td>\n",
       "      <td>15.0</td>\n",
       "      <td>Douro</td>\n",
       "      <td>NaN</td>\n",
       "      <td>Portuguese Red</td>\n",
       "    </tr>\n",
       "    <tr>\n",
       "      <th>2</th>\n",
       "      <td>US</td>\n",
       "      <td>Tart and snappy, the flavors of lime flesh and rind dominate. Some green pineapple pokes through, with crisp acidity underscoring the flavors. The wine was all stainless-steel fermented.</td>\n",
       "      <td>14.0</td>\n",
       "      <td>Oregon</td>\n",
       "      <td>Willamette Valley</td>\n",
       "      <td>Pinot Gris</td>\n",
       "    </tr>\n",
       "    <tr>\n",
       "      <th>3</th>\n",
       "      <td>US</td>\n",
       "      <td>Pineapple rind, lemon pith and orange blossom start off the aromas. The palate is a bit more opulent, with notes of honey-drizzled guava and mango giving way to a slightly astringent, semidry finish.</td>\n",
       "      <td>13.0</td>\n",
       "      <td>Michigan</td>\n",
       "      <td>Lake Michigan Shore</td>\n",
       "      <td>Riesling</td>\n",
       "    </tr>\n",
       "    <tr>\n",
       "      <th>4</th>\n",
       "      <td>US</td>\n",
       "      <td>Much like the regular bottling from 2012, this comes across as rather rough and tannic, with rustic, earthy, herbal characteristics. Nonetheless, if you think of it as a pleasantly unfussy country wine, it's a good companion to a hearty winter stew.</td>\n",
       "      <td>65.0</td>\n",
       "      <td>Oregon</td>\n",
       "      <td>Willamette Valley</td>\n",
       "      <td>Pinot Noir</td>\n",
       "    </tr>\n",
       "    <tr>\n",
       "      <th>5</th>\n",
       "      <td>Spain</td>\n",
       "      <td>Blackberry and raspberry aromas show a typical Navarran whiff of green herbs and, in this case, horseradish. In the mouth, this is fairly full bodied, with tomatoey acidity. Spicy, herbal flavors complement dark plum fruit, while the finish is fresh but grabby.</td>\n",
       "      <td>15.0</td>\n",
       "      <td>Northern Spain</td>\n",
       "      <td>Navarra</td>\n",
       "      <td>Tempranillo-Merlot</td>\n",
       "    </tr>\n",
       "    <tr>\n",
       "      <th>6</th>\n",
       "      <td>Italy</td>\n",
       "      <td>Here's a bright, informal red that opens with aromas of candied berry, white pepper and savory herb that carry over to the palate. It's balanced with fresh acidity and soft tannins.</td>\n",
       "      <td>16.0</td>\n",
       "      <td>Sicily &amp; Sardinia</td>\n",
       "      <td>Vittoria</td>\n",
       "      <td>Frappato</td>\n",
       "    </tr>\n",
       "    <tr>\n",
       "      <th>7</th>\n",
       "      <td>France</td>\n",
       "      <td>This dry and restrained wine offers spice in profusion. Balanced with acidity and a firm texture, it's very much for food.</td>\n",
       "      <td>24.0</td>\n",
       "      <td>Alsace</td>\n",
       "      <td>Alsace</td>\n",
       "      <td>Gewürztraminer</td>\n",
       "    </tr>\n",
       "    <tr>\n",
       "      <th>8</th>\n",
       "      <td>Germany</td>\n",
       "      <td>Savory dried thyme notes accent sunnier flavors of preserved peach in this brisk, off-dry wine. It's fruity and fresh, with an elegant, sprightly footprint.</td>\n",
       "      <td>12.0</td>\n",
       "      <td>Rheinhessen</td>\n",
       "      <td>NaN</td>\n",
       "      <td>Gewürztraminer</td>\n",
       "    </tr>\n",
       "    <tr>\n",
       "      <th>9</th>\n",
       "      <td>France</td>\n",
       "      <td>This has great depth of flavor with its fresh apple and pear fruits and touch of spice. It's off dry while balanced with acidity and a crisp texture. Drink now.</td>\n",
       "      <td>27.0</td>\n",
       "      <td>Alsace</td>\n",
       "      <td>Alsace</td>\n",
       "      <td>Pinot Gris</td>\n",
       "    </tr>\n",
       "    <tr>\n",
       "      <th>10</th>\n",
       "      <td>US</td>\n",
       "      <td>Soft, supple plum envelopes an oaky structure in this Cabernet, supported by 15% Merlot. Coffee and chocolate complete the picture, finishing strong at the end, resulting in a value-priced wine of attractive flavor and immediate accessibility.</td>\n",
       "      <td>19.0</td>\n",
       "      <td>California</td>\n",
       "      <td>Napa Valley</td>\n",
       "      <td>Cabernet Sauvignon</td>\n",
       "    </tr>\n",
       "  </tbody>\n",
       "</table>\n",
       "</div>"
      ],
      "text/plain": [
       "     country  \\\n",
       "1   Portugal   \n",
       "2   US         \n",
       "3   US         \n",
       "4   US         \n",
       "5   Spain      \n",
       "6   Italy      \n",
       "7   France     \n",
       "8   Germany    \n",
       "9   France     \n",
       "10  US         \n",
       "\n",
       "                                                                                                                                                                                                                                                              description  \\\n",
       "1   This is ripe and fruity, a wine that is smooth while still structured. Firm tannins are filled out with juicy red berry fruits and freshened with acidity. It's  already drinkable, although it will certainly be better from 2016.                                     \n",
       "2   Tart and snappy, the flavors of lime flesh and rind dominate. Some green pineapple pokes through, with crisp acidity underscoring the flavors. The wine was all stainless-steel fermented.                                                                              \n",
       "3   Pineapple rind, lemon pith and orange blossom start off the aromas. The palate is a bit more opulent, with notes of honey-drizzled guava and mango giving way to a slightly astringent, semidry finish.                                                                 \n",
       "4   Much like the regular bottling from 2012, this comes across as rather rough and tannic, with rustic, earthy, herbal characteristics. Nonetheless, if you think of it as a pleasantly unfussy country wine, it's a good companion to a hearty winter stew.               \n",
       "5   Blackberry and raspberry aromas show a typical Navarran whiff of green herbs and, in this case, horseradish. In the mouth, this is fairly full bodied, with tomatoey acidity. Spicy, herbal flavors complement dark plum fruit, while the finish is fresh but grabby.   \n",
       "6   Here's a bright, informal red that opens with aromas of candied berry, white pepper and savory herb that carry over to the palate. It's balanced with fresh acidity and soft tannins.                                                                                   \n",
       "7   This dry and restrained wine offers spice in profusion. Balanced with acidity and a firm texture, it's very much for food.                                                                                                                                              \n",
       "8   Savory dried thyme notes accent sunnier flavors of preserved peach in this brisk, off-dry wine. It's fruity and fresh, with an elegant, sprightly footprint.                                                                                                            \n",
       "9   This has great depth of flavor with its fresh apple and pear fruits and touch of spice. It's off dry while balanced with acidity and a crisp texture. Drink now.                                                                                                        \n",
       "10  Soft, supple plum envelopes an oaky structure in this Cabernet, supported by 15% Merlot. Coffee and chocolate complete the picture, finishing strong at the end, resulting in a value-priced wine of attractive flavor and immediate accessibility.                     \n",
       "\n",
       "    price           province               region             variety  \n",
       "1   15.0   Douro              NaN                  Portuguese Red      \n",
       "2   14.0   Oregon             Willamette Valley    Pinot Gris          \n",
       "3   13.0   Michigan           Lake Michigan Shore  Riesling            \n",
       "4   65.0   Oregon             Willamette Valley    Pinot Noir          \n",
       "5   15.0   Northern Spain     Navarra              Tempranillo-Merlot  \n",
       "6   16.0   Sicily & Sardinia  Vittoria             Frappato            \n",
       "7   24.0   Alsace             Alsace               Gewürztraminer      \n",
       "8   12.0   Rheinhessen        NaN                  Gewürztraminer      \n",
       "9   27.0   Alsace             Alsace               Pinot Gris          \n",
       "10  19.0   California         Napa Valley          Cabernet Sauvignon  "
      ]
     },
     "execution_count": 37,
     "metadata": {},
     "output_type": "execute_result"
    }
   ],
   "source": [
    "df_q3.head(10)"
   ]
  },
  {
   "cell_type": "markdown",
   "metadata": {},
   "source": [
    "### 3. Prepare Data"
   ]
  },
  {
   "cell_type": "code",
   "execution_count": 38,
   "metadata": {},
   "outputs": [
    {
     "name": "stdout",
     "output_type": "stream",
     "text": [
      "Unique country values before filtering: 43\n",
      "Unique country values after filtering: 21\n",
      "Unique province values before filtering: 357\n",
      "Unique province values after filtering: 175\n",
      "Unique region values before filtering: 1150\n",
      "Unique region values after filtering: 565\n",
      "Unique variety values before filtering: 466\n",
      "Unique variety values after filtering: 223\n"
     ]
    },
    {
     "data": {
      "text/plain": [
       "(84144, 6)"
      ]
     },
     "execution_count": 38,
     "metadata": {},
     "output_type": "execute_result"
    }
   ],
   "source": [
    "# remove outliers from the dataframe\n",
    "df_q3 = filter_outliers(df_q3, \"country\", \"price\")\n",
    "df_q3 = filter_outliers(df_q3, \"province\", \"price\")\n",
    "df_q3 = filter_outliers(df_q3, \"region\", \"price\")\n",
    "df_q3 = filter_outliers(df_q3, \"variety\", \"price\").reset_index(drop=True)\n",
    "df_q3.shape"
   ]
  },
  {
   "cell_type": "code",
   "execution_count": 39,
   "metadata": {},
   "outputs": [],
   "source": [
    "# Split the data into features and target label\n",
    "df_price = df_q3['price']\n",
    "df_features = df_q3.drop(['price'], axis = 1)"
   ]
  },
  {
   "cell_type": "code",
   "execution_count": 40,
   "metadata": {},
   "outputs": [],
   "source": [
    "# Filter descriptions to remove unneeded words\n",
    "corpus = df_features['description'].apply(get_filtered_list).apply(lambda l: ' '.join(l))"
   ]
  },
  {
   "cell_type": "code",
   "execution_count": 41,
   "metadata": {},
   "outputs": [],
   "source": [
    "# Create a matrix of TF-IDF features. Only use the top 100 terms by frequency\n",
    "tv = TfidfVectorizer(min_df=0., max_df=1., use_idf=True, max_features=100)\n",
    "tv_matrix = tv.fit_transform(corpus)\n",
    "tv_matrix = tv_matrix.toarray()\n",
    "\n",
    "# Create a new dataframe for the word matrices \n",
    "vocab = tv.get_feature_names()\n",
    "df_words = pd.DataFrame(np.round(tv_matrix, 2), columns=vocab)"
   ]
  },
  {
   "cell_type": "code",
   "execution_count": 42,
   "metadata": {},
   "outputs": [],
   "source": [
    "# Drop description column and merge with word dataframe\n",
    "df_features = df_features.drop(['description'], axis = 1).reset_index(drop=True)\n",
    "df_features = pd.concat([df_features, df_words], axis=1)"
   ]
  },
  {
   "cell_type": "code",
   "execution_count": 43,
   "metadata": {},
   "outputs": [],
   "source": [
    "# One-hot encode categorical features\n",
    "df_features_final = pd.get_dummies(df_features)"
   ]
  },
  {
   "cell_type": "code",
   "execution_count": 44,
   "metadata": {},
   "outputs": [
    {
     "name": "stdout",
     "output_type": "stream",
     "text": [
      "945 total features after one-hot encoding.\n"
     ]
    }
   ],
   "source": [
    "# Print the number of features after one-hot encoding\n",
    "encoded = list(df_features_final.columns)\n",
    "print(\"{} total features after one-hot encoding.\".format(len(encoded)))"
   ]
  },
  {
   "cell_type": "code",
   "execution_count": 45,
   "metadata": {},
   "outputs": [
    {
     "name": "stdout",
     "output_type": "stream",
     "text": [
      "Training set has 56376 samples.\n",
      "Testing set has 27768 samples.\n"
     ]
    }
   ],
   "source": [
    "# Split the 'features' and 'income' data into training and testing sets\n",
    "X_train, X_test, y_train, y_test = train_test_split(df_features_final, \n",
    "                                                    df_price, \n",
    "                                                    test_size = 0.33)\n",
    "\n",
    "# Show the results of the split\n",
    "print(\"Training set has {} samples.\".format(X_train.shape[0]))\n",
    "print(\"Testing set has {} samples.\".format(X_test.shape[0]))"
   ]
  },
  {
   "cell_type": "markdown",
   "metadata": {},
   "source": [
    "### 4. Create a model"
   ]
  },
  {
   "cell_type": "code",
   "execution_count": 46,
   "metadata": {},
   "outputs": [
    {
     "name": "stderr",
     "output_type": "stream",
     "text": [
      "[Parallel(n_jobs=4)]: Using backend ThreadingBackend with 4 concurrent workers.\n"
     ]
    },
    {
     "name": "stdout",
     "output_type": "stream",
     "text": [
      "max_iter reached after 2893 seconds\n"
     ]
    },
    {
     "name": "stderr",
     "output_type": "stream",
     "text": [
      "[Parallel(n_jobs=4)]: Done   1 tasks      | elapsed: 48.2min\n",
      "[Parallel(n_jobs=4)]: Done   1 out of   1 | elapsed: 48.2min finished\n"
     ]
    },
    {
     "name": "stdout",
     "output_type": "stream",
     "text": [
      "Mean squared error on testing data: 177.7639\n"
     ]
    }
   ],
   "source": [
    "# Initialize the classifier\n",
    "clf = LogisticRegression(max_iter=100, verbose=10, warm_start=True, n_jobs=4, C=1, solver='saga', penalty='l1')\n",
    "\n",
    "# Make predictions using the unoptimized and model\n",
    "predictions = (clf.fit(X_train, y_train)).predict(X_test)\n",
    "\n",
    "# Report the before-and-afterscores\n",
    "print(\"Mean squared error on testing data: {:.4f}\".format(mean_squared_error(y_test, predictions)))"
   ]
  },
  {
   "cell_type": "markdown",
   "metadata": {},
   "source": [
    "### 5. Evaluate the Results"
   ]
  },
  {
   "cell_type": "markdown",
   "metadata": {},
   "source": [
    "Our trained model produced a mean squared error of 177.7639. This equates to an error of 13.33. This is not ideal when the average bottle of wine is around $25. This model would not be accurate enough to properly predict the price. In future analysis, we could explore other classifier types to improve the results."
   ]
  }
 ],
 "metadata": {
  "kernelspec": {
   "display_name": "Python 3",
   "language": "python",
   "name": "python3"
  },
  "language_info": {
   "codemirror_mode": {
    "name": "ipython",
    "version": 3
   },
   "file_extension": ".py",
   "mimetype": "text/x-python",
   "name": "python",
   "nbconvert_exporter": "python",
   "pygments_lexer": "ipython3",
   "version": "3.7.7"
  }
 },
 "nbformat": 4,
 "nbformat_minor": 2
}
